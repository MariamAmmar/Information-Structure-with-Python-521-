{
 "cells": [
  {
   "cell_type": "code",
   "execution_count": 143,
   "id": "936c02db",
   "metadata": {},
   "outputs": [
    {
     "data": {
      "text/plain": [
       "'\\nMariam Ammar\\nClass: CS 521 - Summer 2\\nDate: 07/31/2021\\nHomework Problem #5.5.2\\n \\n'"
      ]
     },
     "execution_count": 143,
     "metadata": {},
     "output_type": "execute_result"
    }
   ],
   "source": [
    "\"\"\"\n",
    "Mariam Ammar\n",
    "Class: CS 521 - Summer 2\n",
    "Date: 07/31/2021\n",
    "Homework Problem #5.5.2\n",
    " \n",
    "\"\"\"\n"
   ]
  },
  {
   "cell_type": "code",
   "execution_count": 144,
   "id": "d0e39028",
   "metadata": {},
   "outputs": [
    {
     "data": {
      "text/plain": [
       "{'h': 1, 'e': 1, 'y': 1}"
      ]
     },
     "execution_count": 144,
     "metadata": {},
     "output_type": "execute_result"
    }
   ],
   "source": [
    "def letter_counts(input_string):\n",
    "    input_string = input_string.replace(\" \", \"\")\n",
    "    counts = {}\n",
    "    for letter in input_string:\n",
    "        if letter in counts.keys():\n",
    "            counts[letter] += 1\n",
    "        else:\n",
    "            counts[letter] = 1\n",
    "    return counts\n",
    "\n",
    "\n",
    "letter_counts(\"hey\")"
   ]
  },
  {
   "cell_type": "code",
   "execution_count": 145,
   "id": "4379a887",
   "metadata": {},
   "outputs": [
    {
     "data": {
      "text/plain": [
       "\"Most frequent letter 'o'        appears 4 times.\""
      ]
     },
     "execution_count": 145,
     "metadata": {},
     "output_type": "execute_result"
    }
   ],
   "source": [
    "def most_common_letter(input_string):\n",
    "    freq_value = max(letter_counts(input_string).values())\n",
    "    max_letters = []\n",
    "    for k, v in letter_counts(input_string).items():\n",
    "         if v == freq_value and v not in max_letters:\n",
    "                 max_letters.append(k)\n",
    "    clean_letters = f'''{\"', '\".join(max_letters)}'''         \n",
    "    \n",
    "    if len(max_letters) > 1:\n",
    "        return ('Most frequent letters ' + f\"'{clean_letters}\\\n",
    "        ' appear {freq_value} times.\")\n",
    "        \n",
    "    else:\n",
    "        return (f\"Most frequent letter '{clean_letters}'\\\n",
    "        appears {freq_value} times.\")\n",
    "\n",
    "\n",
    "most_common_letter(\"hoooo\")"
   ]
  },
  {
   "cell_type": "code",
   "execution_count": 146,
   "id": "5fcd5498",
   "metadata": {},
   "outputs": [
    {
     "data": {
      "text/plain": [
       "['h', 'iiiiiii']"
      ]
     },
     "execution_count": 146,
     "metadata": {},
     "output_type": "execute_result"
    }
   ],
   "source": [
    "def string_count_histogram(input_string): \n",
    "    hist_lst = []\n",
    "    for k, v in letter_counts(input_string).items():\n",
    "        hist_lst.append(k*v)\n",
    "    return hist_lst\n",
    "\n",
    "    \n",
    "string_count_histogram(\"hiiiiiii\")"
   ]
  },
  {
   "cell_type": "code",
   "execution_count": 147,
   "id": "8b923c36",
   "metadata": {},
   "outputs": [
    {
     "name": "stdout",
     "output_type": "stream",
     "text": [
      "The string being analyzed is: WWWAS IT A RAT I SAW\n",
      "Letter counts:'A': 4, 'I': 2, 'R': 1, 'S': 2, 'T': 2, 'W': 4\n",
      "Most frequent letters 'W', 'A        ' appear 4 times.\n",
      "Histogram: \n",
      "AAAA\n",
      "II\n",
      "R\n",
      "SS\n",
      "TT\n",
      "WWWW\n"
     ]
    }
   ],
   "source": [
    "if __name__ == '__main__':\n",
    "    input_string = 'WWWAS IT A RAT I SAW'\n",
    "    counts_dict = sorted(letter_counts(input_string).items())\n",
    "    clean_dict = \", \".join(\"'{}': {}\".format(k, v) for k, v in counts_dict)\n",
    "\n",
    "    print(f\"The string being analyzed is: {input_string}\\n\" + \n",
    "    \"Letter counts:\" + clean_dict)\n",
    "    \n",
    "    print(most_common_letter(input_string))\n",
    "    \n",
    "    sorted_hist = sorted(string_count_histogram(input_string))\n",
    "    hist_str = '\\n'.join(sorted_hist)\n",
    "    print(f\"Histogram: \\n{hist_str}\")\n",
    "\n"
   ]
  },
  {
   "cell_type": "code",
   "execution_count": 132,
   "id": "3d86f43f",
   "metadata": {},
   "outputs": [
    {
     "ename": "TypeError",
     "evalue": "sequence item 0: expected str instance, tuple found",
     "output_type": "error",
     "traceback": [
      "\u001b[0;31m---------------------------------------------------------------------------\u001b[0m",
      "\u001b[0;31mTypeError\u001b[0m                                 Traceback (most recent call last)",
      "\u001b[0;32m<ipython-input-132-ceda38180259>\u001b[0m in \u001b[0;36m<module>\u001b[0;34m\u001b[0m\n\u001b[0;32m----> 1\u001b[0;31m \u001b[0ms\u001b[0m \u001b[0;34m=\u001b[0m \u001b[0;34m\", \"\u001b[0m\u001b[0;34m.\u001b[0m\u001b[0mjoin\u001b[0m\u001b[0;34m(\u001b[0m\u001b[0;34m(\u001b[0m\u001b[0;34m(\u001b[0m\u001b[0mk\u001b[0m\u001b[0;34m,\u001b[0m \u001b[0mv\u001b[0m\u001b[0;34m)\u001b[0m \u001b[0;32mfor\u001b[0m \u001b[0mk\u001b[0m\u001b[0;34m,\u001b[0m\u001b[0mv\u001b[0m \u001b[0;32min\u001b[0m \u001b[0mcounts_dict\u001b[0m\u001b[0;34m)\u001b[0m\u001b[0;34m)\u001b[0m\u001b[0;34m\u001b[0m\u001b[0;34m\u001b[0m\u001b[0m\n\u001b[0m\u001b[1;32m      2\u001b[0m \u001b[0ms\u001b[0m\u001b[0;34m\u001b[0m\u001b[0;34m\u001b[0m\u001b[0m\n",
      "\u001b[0;31mTypeError\u001b[0m: sequence item 0: expected str instance, tuple found"
     ]
    }
   ],
   "source": []
  },
  {
   "cell_type": "code",
   "execution_count": 138,
   "id": "d30a487f",
   "metadata": {},
   "outputs": [
    {
     "data": {
      "text/plain": [
       "\"'A': 4, 'I': 2, 'R': 1, 'S': 2, 'T': 2, 'W': 4\""
      ]
     },
     "execution_count": 138,
     "metadata": {},
     "output_type": "execute_result"
    }
   ],
   "source": []
  },
  {
   "cell_type": "code",
   "execution_count": null,
   "id": "678b3286",
   "metadata": {},
   "outputs": [],
   "source": []
  }
 ],
 "metadata": {
  "kernelspec": {
   "display_name": "Python 3",
   "language": "python",
   "name": "python3"
  },
  "language_info": {
   "codemirror_mode": {
    "name": "ipython",
    "version": 3
   },
   "file_extension": ".py",
   "mimetype": "text/x-python",
   "name": "python",
   "nbconvert_exporter": "python",
   "pygments_lexer": "ipython3",
   "version": "3.8.8"
  }
 },
 "nbformat": 4,
 "nbformat_minor": 5
}
