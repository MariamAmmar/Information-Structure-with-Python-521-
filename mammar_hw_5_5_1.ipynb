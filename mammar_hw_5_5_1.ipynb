{
 "cells": [
  {
   "cell_type": "code",
   "execution_count": 1,
   "id": "9017d5b9",
   "metadata": {},
   "outputs": [
    {
     "data": {
      "text/plain": [
       "'\\nMariam Ammar\\nClass: CS 521 - Summer 2\\nDate: 07/31/2021\\nHomework Problem #5.5.1\\nCreates a dictionary from two lists. \\n'"
      ]
     },
     "execution_count": 1,
     "metadata": {},
     "output_type": "execute_result"
    }
   ],
   "source": [
    "\"\"\"\n",
    "Mariam Ammar\n",
    "Class: CS 521 - Summer 2\n",
    "Date: 07/31/2021\n",
    "Homework Problem #5.5.1\n",
    "Returns number of constants and vowels from userinput file. \n",
    "\"\"\"\n"
   ]
  },
  {
   "cell_type": "code",
   "execution_count": null,
   "id": "c94bd5e0",
   "metadata": {},
   "outputs": [
    {
     "name": "stdout",
     "output_type": "stream",
     "text": [
      "Sorry, we couldn't fine your file.\n",
      "\n",
      "Enter the name of a text file.\n",
      "Follow it by the extension.(ie. myfile.txt): vowels.txt\n",
      "\n",
      "Total # of vowels in text file: 5\n",
      "Total # of constants in text file: 2\n"
     ]
    }
   ],
   "source": [
    "while True:\n",
    "    try:\n",
    "        filename = input('''\\nEnter the name of a text file.\n",
    "Follow it by the extension.(ie. myfile.txt): ''')\n",
    "        def vc_counter(filename):\n",
    "            '''Returns number of vowels and constanants\n",
    "            from text file in dict format'''\n",
    "            text_file = open(filename, \"r+\")\n",
    "            words = text_file.read().replace(\" \",\"\")\n",
    "            vowels= [\"A\", \"E\", \"I\", \"O\", \"U\"]\n",
    "            v = []\n",
    "            c = []\n",
    "            for i in words:\n",
    "                if i in vowels:\n",
    "                    v.append(i)\n",
    "                else:\n",
    "                    c.append(i)\n",
    "            text_file.close()\n",
    "            return {\"Vowels\": len(v), \"Constants\":len(c)}\n",
    "\n",
    "\n",
    "        print(f\"\\nTotal # of vowels in text file: {vc_counter(filename)['Vowels']}\")\n",
    "        print(f\"Total # of constants in text file: {vc_counter(filename)['Constants']}\")\n",
    "    except:\n",
    "        print(\"Sorry, we couldn't fine your file.\")\n",
    "        continue"
   ]
  },
  {
   "cell_type": "code",
   "execution_count": null,
   "id": "dd6c939d",
   "metadata": {},
   "outputs": [],
   "source": []
  },
  {
   "cell_type": "code",
   "execution_count": null,
   "id": "b28300ac",
   "metadata": {},
   "outputs": [],
   "source": []
  },
  {
   "cell_type": "code",
   "execution_count": null,
   "id": "67d59a78",
   "metadata": {},
   "outputs": [],
   "source": []
  },
  {
   "cell_type": "code",
   "execution_count": null,
   "id": "7947bd68",
   "metadata": {},
   "outputs": [],
   "source": []
  },
  {
   "cell_type": "code",
   "execution_count": null,
   "id": "5c7bcb89",
   "metadata": {},
   "outputs": [],
   "source": []
  },
  {
   "cell_type": "code",
   "execution_count": null,
   "id": "b4a1043b",
   "metadata": {},
   "outputs": [],
   "source": []
  },
  {
   "cell_type": "code",
   "execution_count": null,
   "id": "0522086a",
   "metadata": {},
   "outputs": [],
   "source": []
  },
  {
   "cell_type": "code",
   "execution_count": null,
   "id": "e130010d",
   "metadata": {},
   "outputs": [],
   "source": []
  }
 ],
 "metadata": {
  "kernelspec": {
   "display_name": "Python 3",
   "language": "python",
   "name": "python3"
  },
  "language_info": {
   "codemirror_mode": {
    "name": "ipython",
    "version": 3
   },
   "file_extension": ".py",
   "mimetype": "text/x-python",
   "name": "python",
   "nbconvert_exporter": "python",
   "pygments_lexer": "ipython3",
   "version": "3.8.8"
  }
 },
 "nbformat": 4,
 "nbformat_minor": 5
}
